{
  "nbformat": 4,
  "nbformat_minor": 0,
  "metadata": {
    "colab": {
      "provenance": [],
      "include_colab_link": true
    },
    "kernelspec": {
      "name": "python3",
      "display_name": "Python 3"
    },
    "language_info": {
      "name": "python"
    }
  },
  "cells": [
    {
      "cell_type": "markdown",
      "metadata": {
        "id": "view-in-github",
        "colab_type": "text"
      },
      "source": [
        "<a href=\"https://colab.research.google.com/github/ompatil254/Brainbox-1/blob/main/recommendation_system.ipynb\" target=\"_parent\"><img src=\"https://colab.research.google.com/assets/colab-badge.svg\" alt=\"Open In Colab\"/></a>"
      ]
    },
    {
      "cell_type": "code",
      "source": [
        "subject_attributes = {\n",
        "    'Engineering Calculus': ['Linear Algebra', 'Differential Equations and Complex Analysis', 'Numerical Methods', 'Optimization'],\n",
        "    'Engineering Physics': ['Engineering Mechanics', 'Analog circuits', 'Electromagnetic Engineering', 'Thermal/Fluids'],\n",
        "    'Engineering Graphics': ['Computer Architecture & Organization', 'Digital Systems and Microprocessors', 'Analog and Digital Communication', 'Manufacturing'],\n",
        "    'Basic Electrical Engineering': ['Electronic Devices', 'Analog circuits', 'Power Electronics', 'Electric Drives'],\n",
        "    'Engineering Chemistry': ['Biology for Engineers', 'Materials', 'Environment/Sustainability', 'Environmental Engineering'],\n",
        "    'Biology for Engineers': ['Engineering Chemistry', 'Biology II', 'Environmental/Sustainability', 'Bioinformatics'],\n",
        "    'Engineering Mechanics': ['Engineering Physics', 'Linear Algebra', 'Control Systems', 'Thermal/Fluids'],\n",
        "    'Linear Algebra': ['Engineering Calculus', 'Differential Equations and Complex Analysis', 'Numerical Methods', 'Optimization'],\n",
        "    'Computer Architecture & Organization': ['Engineering Graphics', 'Digital Systems and Microprocessors', 'Analog and Digital Communication', 'Computer Communication Network'],\n",
        "    'Electronic Devices': ['Basic Electrical Engineering', 'Analog circuits', 'Power Electronics', 'Semiconductor Physics'],\n",
        "    'Network Theory': ['Analog circuits', 'Digital Systems and Microprocessors', 'Computer Communication Network', 'Network Security'],\n",
        "    'Analog circuits': ['Engineering Physics', 'Basic Electrical Engineering', 'Digital Systems and Microprocessors', 'Control Systems'],\n",
        "    'Microcontrollers': ['Digital Systems and Microprocessors', 'Embedded Systems', 'IoT', 'Industrial Automation'],\n",
        "    'Signals and Systems': ['Engineering Physics', 'Analog circuits', 'Digital Signal Processing', 'Control Systems'],\n",
        "    'Analog and Digital Communication': ['Engineering Graphics', 'Digital Systems and Microprocessors', 'Computer Communication Network', 'Wireless Communication'],\n",
        "    'Control Systems': ['Engineering Mechanics', 'Analog circuits', 'Signals and Systems', 'Electric Drives'],\n",
        "    'Digital Signal Processing': ['Engineering Physics', 'Differential Equations and Complex Analysis', 'Signals and Systems', 'Control Systems'],\n",
        "    'Electromagnetic Engineering': ['Engineering Physics', 'Analog circuits', 'Digital Signal Processing', 'Antenna'],\n",
        "    'Fundamentals of Antenna': ['Electromagnetic Engineering', 'Digital Signal Processing', 'Wireless Communication', 'Communication Signal Processing'],\n",
        "    'Power Electronics': ['Basic Electrical Engineering', 'Electronic Devices', 'Analog circuits', 'Electric Drives'],\n",
        "    'Computer Communication Network': ['Engineering Graphics', 'Digital Systems and Microprocessors', 'Analog and Digital Communication', 'Network Security'],\n",
        "    'Problem Solving using Imperative Programming': ['Problem Solving using OOPs', 'Java Programming Lab', 'Data Structures/Algorithms', 'Software Engineering'],\n",
        "    'Problem Solving using OOPs': ['Problem Solving using Imperative Programming', 'Java Programming Lab', 'Data Structures/Algorithms', 'Software Engineering'],\n",
        "    'Java Programming Lab': ['Problem Solving using Imperative Programming', 'Problem Solving using OOPs', 'Data Structures/Algorithms', 'Software Engineering'],\n",
        "    'Data Structures/Algorithms': ['Java Programming Lab', 'Software Engineering', 'Database Systems', 'Optimization'],\n",
        "    'Software Engineering': ['Problem Solving using Imperative Programming', 'Problem Solving using OOPs', 'Java Programming Lab', 'Database Systems'],\n",
        "    'Database Systems': ['Data Structures/Algorithms', 'Software Engineering', 'Internet Tech', 'Data Analytics'],\n",
        "    'Internet Tech': ['Database Systems', 'Data Analytics', 'Cloud Computing', 'Cyber Security'],\n",
        "    'IoT': ['Embedded Systems', 'Microcontrollers', 'Network Security', 'Cloud Computing'],\n",
        "    'Cloud Computing': ['Internet Tech', 'IoT', 'AR/VR', 'Data Analytics'],\n",
        "    'AR/VR': ['Cloud Computing', 'Internet Tech', 'Graphics', 'User Interface Design'],\n",
        "    'Industrial Automation': ['IoT', 'Microcontrollers', 'Robotics', 'Control Systems'],\n",
        "    'AI/ML': ['Data Analytics', 'Machine Learning', 'Optimization', 'Probability and Stochastic Processes'],\n",
        "    'Cyber Security': ['Network Security', 'Blockchain', 'Cryptography', 'Internet Tech'],\n",
        "    'Blockchain': ['Cyber Security', 'Cryptography', 'Database Systems', 'Finance'],\n",
        "    'Communication Skills': ['Professional Communication Skills', 'Management', 'Organizational Behavior', 'Project Management'],\n",
        "    'Professional Communication Skills': ['Communication Skills', 'Management', 'Organizational Behavior', 'Project Management'],\n",
        "    'Differential Equations and Complex Analysis': ['Engineering Calculus', 'Linear Algebra', 'Numerical Methods', 'Digital Signal Processing'],\n",
        "    'Probability and Stochastic Processes': ['Advanced Statistics', 'Numerical Methods', 'Optimization', 'Data Analytics'],\n",
        "    'Advanced Statistics': ['Probability and Stochastic Processes', 'Numerical Methods', 'Data Analytics', 'Machine Learning'],\n",
        "    'Numerical Methods': ['Engineering Calculus', 'Linear Algebra', 'Differential Equations and Complex Analysis', 'Optimization'],\n",
        "    'Optimization': ['Differential Equations and Complex Analysis', 'Numerical Methods', 'Advanced Statistics', 'Machine Learning'],\n",
        "    'Electronic Instruments and Measurement Lab': ['Digital Systems and Microprocessors', 'Analog and Digital Communication', 'Computer Communication Network', 'Microcontrollers'],\n",
        "    'Communication Signal Processing': ['Digital Signal Processing', 'Wireless Communication', 'Communication Systems', 'Signal Processing'],\n",
        "    'VLSI & Embedded Systems': ['Microcontrollers', 'Digital Systems and Microprocessors', 'Computer Communication Network', 'Electronic Devices'],\n",
        "    'Power Electronics and Energy Systems': ['Power Electronics', 'Electric Drives', 'Renewable Energy', 'Energy Management'],\n",
        "    'Data Analytics': ['Database Systems', 'Data Mining', 'Machine Learning', 'Big Data'],\n",
        "    'Environment/Sustainability': ['Environmental Engineering', 'Renewable Energy', 'Green Technology', 'Climate/Earth Science'],\n",
        "    'Optoelectronics': ['Electronic Devices', 'Analog circuits', 'Photonics', 'Semiconductor Physics'],\n",
        "    'Thermal/Fluids': ['Engineering Physics', 'Engineering Mechanics', 'Heat Transfer', 'Fluid Mechanics'],\n",
        "    'Manufacturing': ['Materials', 'Industrial Engineering', 'Production Engineering', 'Automation'],\n",
        "    'Electric Drives': ['Power Electronics', 'Electric Motors', 'Control Systems', 'Renewable Energy'],\n",
        "    'Materials': ['Materials Science', 'Engineering Chemistry', 'Mechanical Properties of Materials', 'Nanotechnology'],\n",
        "    'Management': ['Project Management', 'Leadership', 'Organizational Behavior', 'Finance'],\n",
        "    'Research Methods': ['Scientific Writing', 'Statistical Analysis', 'Experimental Design', 'Project Management'],\n",
        "    'Engineering Law': ['Intellectual Property Law', 'Contract Law', 'Project Management', 'Business Law'],\n",
        "    'Organizational Behavior': ['Management', 'Leadership', 'Human Resource Management', 'Project Management'],\n",
        "    'Project Management': ['Management', 'Leadership', 'Organizational Behavior', 'Finance'],\n",
        "    'Finance': ['Project Management', 'Investment Analysis', 'Financial Accounting', 'Business Finance'],\n",
        "    'Biology II': ['Genetics', 'Microbiology', 'Ecology', 'Evolutionary Biology'],\n",
        "    'Climate/Earth Science': ['Environmental Science', 'Climate Change', 'Geology', 'Oceanography'],\n",
        "    'Smart Grid': ['Power Systems', 'Renewable Energy', 'Energy Management', 'Electrical Grids'],\n",
        "    'Consumer Electronics': ['Electronic Devices', 'Analog circuits', 'Digital Systems and Microprocessors', 'Embedded Systems'],\n",
        "    'Robotics': ['Industrial Automation', 'AI/ML', 'Control Systems', 'Mechanical Engineering'],\n",
        "    'Network Security': ['Cyber Security', 'Cryptography', 'Computer Networks', 'Information Security'],\n",
        "    'HMI (Human-Machine Interface)': ['User Interface Design', 'Human Factors Engineering', 'Industrial Design', 'Ergonomics']\n",
        "}\n",
        "\n",
        "\n",
        "\n",
        "user_history = ['Probability and Stochastic Processes', 'Analog circuits', 'Microcontrollers', 'Signals and Systems', 'Engineering Physics', 'Data Analytics']\n",
        "user_ongoing = []\n",
        "\n",
        "\n",
        "# Function to recommend popular products based on purchase history\n",
        "def recommended_subjects(user_history):\n",
        "    user_history2 = user_history[:3]  # Consider only the first three subjects in user_history\n",
        "    recommended_hash = {}\n",
        "\n",
        "    for subject in user_history2:\n",
        "        if subject in subject_attributes:\n",
        "            for recommended_subject in subject_attributes[subject]:\n",
        "                if recommended_subject not in user_history:  # Check if recommended subject is not in user_history\n",
        "                    if recommended_subject in recommended_hash:\n",
        "                        recommended_hash[recommended_subject] += 1\n",
        "                    else:\n",
        "                        recommended_hash[recommended_subject] = 1\n",
        "\n",
        "    sorted_recommendations = sorted(recommended_hash.items(), key=lambda x: x[1], reverse=True)\n",
        "    top_five_recommendations = sorted_recommendations[:5]\n",
        "\n",
        "    return [subject for subject, _ in top_five_recommendations]\n",
        "\n",
        "\n",
        "\n",
        "\n",
        "\n",
        "# Get user login ID from input\n",
        "login_id = input(\"Enter your login ID: \")\n",
        "\n",
        "# Get recommendations for the entered login ID\n",
        "user_recommendations = recommended_subjects(user_history)\n",
        "print(f\"Recommendations for {login_id}: {user_recommendations}\")\n",
        "\n"
      ],
      "metadata": {
        "colab": {
          "base_uri": "https://localhost:8080/"
        },
        "id": "0LGpbQKwQRCL",
        "outputId": "5ecb85ef-7950-4f4f-d040-aaa519dfedc3"
      },
      "execution_count": null,
      "outputs": [
        {
          "output_type": "stream",
          "name": "stdout",
          "text": [
            "Enter your login ID: jhfs\n",
            "Recommendations for jhfs: ['Digital Systems and Microprocessors', 'Advanced Statistics', 'Numerical Methods', 'Optimization', 'Basic Electrical Engineering']\n"
          ]
        }
      ]
    }
  ]
}