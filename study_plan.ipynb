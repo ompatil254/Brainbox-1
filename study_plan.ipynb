{
  "nbformat": 4,
  "nbformat_minor": 0,
  "metadata": {
    "colab": {
      "provenance": [],
      "include_colab_link": true
    },
    "kernelspec": {
      "name": "python3",
      "display_name": "Python 3"
    },
    "language_info": {
      "name": "python"
    }
  },
  "cells": [
    {
      "cell_type": "markdown",
      "metadata": {
        "id": "view-in-github",
        "colab_type": "text"
      },
      "source": [
        "<a href=\"https://colab.research.google.com/github/ompatil254/Brainbox-1/blob/main/study_plan.ipynb\" target=\"_parent\"><img src=\"https://colab.research.google.com/assets/colab-badge.svg\" alt=\"Open In Colab\"/></a>"
      ]
    },
    {
      "cell_type": "code",
      "execution_count": null,
      "metadata": {
        "id": "fABG2t43LSOC"
      },
      "outputs": [],
      "source": [
        "!pip install -U -q google-generativeai\n",
        "import pathlib\n",
        "import textwrap\n",
        "import time\n",
        "\n",
        "import google.generativeai as genai\n",
        "\n",
        "\n",
        "from IPython import display\n",
        "from IPython.display import Markdown\n",
        "\n",
        "def to_markdown(text):\n",
        "  text = text.replace('•', '  *')\n",
        "  return Markdown(textwrap.indent(text, '> ', predicate=lambda _: True))\n",
        "\n",
        "\n",
        "  import requests\n",
        "\n"
      ]
    },
    {
      "cell_type": "code",
      "source": [
        "\n",
        "from google.colab import userdata\n",
        "\n",
        "GOOGLE_API_KEY=userdata.get('GOOGLE_API_KEY')\n",
        "\n",
        "genai.configure(api_key=GOOGLE_API_KEY)\n"
      ],
      "metadata": {
        "id": "I-eMaiF9ofHI"
      },
      "execution_count": null,
      "outputs": []
    },
    {
      "cell_type": "code",
      "source": [
        "model = genai.GenerativeModel('gemini-pro')"
      ],
      "metadata": {
        "id": "pEEJBbC_uCeg"
      },
      "execution_count": null,
      "outputs": []
    },
    {
      "cell_type": "code",
      "source": [
        "import re\n",
        "\n",
        "def remove_markdown(text):\n",
        "  \"\"\"Removes markdown formatting from a string (improved version)\"\"\"\n",
        "  patterns = {\n",
        "      r\"\\*\\*([^*]+)\\*\\*\": r\"\\1\",          # Bold (**)\n",
        "      r\"_([^_]+)_\": r\"\\1\",                # Italic (_)\n",
        "      r\"\\[([^\\]]+)]\\(([^)]+)\\)\": r\"\\1 (\\2)\",  # Link ([text](url))\n",
        "      r\"#+ (.*)\": r\"\\1\",                   # Headings (#)\n",
        "      r\"\\s*-{3,}\\s*\": r\"\\n\",                # Horizontal rule\n",
        "      r\"`(.*?)`\": r\"\\1\",                   # Code block\n",
        "      r\"\\* (.*)\": r\"\\1\",                   # List item (*) (might need adjustment)\n",
        "      r\"\\>(.*)\": r\"\\1\",                   # Quote (>) (might need adjustment)\n",
        "  }\n",
        "\n",
        "  # Replace markdown elements with plain text using a loop\n",
        "  for pattern, replacement in patterns.items():\n",
        "    text = re.sub(pattern, replacement, text)\n",
        "  return text\n",
        "\n",
        "# Input Functions\n",
        "def get_num_subjects():\n",
        "  \"\"\"Prompts user and returns the number of subjects\"\"\"\n",
        "  num_subjects = int(input(\"Enter the number of subjects you'll be studying: \"))\n",
        "  return num_subjects\n",
        "\n",
        "def get_subject_info():\n",
        "  \"\"\"Prompts user for subject name and difficulty, returns a dictionary\"\"\"\n",
        "  subject_info = {}\n",
        "  for i in range(num_subjects):\n",
        "    subject_name = input(f\"Enter subject {i+1} name: \")\n",
        "    difficulty = input(f\"Enter the difficulty level of {subject_name} (low, medium, high): \")\n",
        "    difficulty = difficulty.lower()\n",
        "    subject_info[subject_name] = difficulty\n",
        "  return subject_info\n",
        "\n",
        "def get_time_left():\n",
        "  \"\"\"Prompts user and returns time left for exam in days\"\"\"\n",
        "  days_left = int(input(\"Enter the number of days left for your exam: \"))\n",
        "  return days_left\n",
        "\n",
        "def get_learning_style():\n",
        "  \"\"\"Prompts user and returns learning style\"\"\"\n",
        "  learning_style = input(\"Enter your preferred learning style (visual, auditory, kinesthetic): \")\n",
        "  learning_style = learning_style.lower()\n",
        "  return learning_style\n",
        "\n",
        "# Main Program\n",
        "num_subjects = get_num_subjects()\n",
        "subject_info = get_subject_info()\n",
        "time_left = get_time_left()\n",
        "learning_style = get_learning_style()\n",
        "\n",
        "# Build a comprehensive prompt with all user inputs\n",
        "all_prompts = []\n",
        "for subject_name, difficulty in subject_info.items():\n",
        "  prompt = f\"Generate a personalized study plan to efficiently learn {subject_name} (difficulty: {difficulty}) tailored to a {learning_style} learner in {time_left} days.  Focus on prioritizing key topics and optimizing study time. do not use pointers. \"\n",
        "  all_prompts.append(prompt)\n",
        "\n",
        "# Assuming 'model' can handle multiple prompts (modify if needed)\n",
        "responses = model.generate_content(all_prompts)  # Might need adjustment based on your model\n",
        "\n",
        "# Process and display individual study plans (modify based on model output format)\n",
        "for i, response in enumerate(responses):\n",
        "  subject_name = list(subject_info.keys())[i]\n",
        "  print(f\"\\n Personalized Study Plan for {subject_name} \")\n",
        "  # Remove markdown before printing (assuming text format by default)\n",
        "  markdown_response = remove_markdown(response.text)\n",
        "  print(markdown_response)\n",
        "\n",
        "\n"
      ],
      "metadata": {
        "colab": {
          "base_uri": "https://localhost:8080/",
          "height": 373
        },
        "id": "DqXV8_uXv5AM",
        "outputId": "3360583d-6420-436d-b008-ccb039232cde"
      },
      "execution_count": null,
      "outputs": [
        {
          "name": "stdout",
          "output_type": "stream",
          "text": [
            "Enter the number of subjects you'll be studying: 2\n"
          ]
        },
        {
          "output_type": "error",
          "ename": "KeyboardInterrupt",
          "evalue": "Interrupted by user",
          "traceback": [
            "\u001b[0;31m---------------------------------------------------------------------------\u001b[0m",
            "\u001b[0;31mKeyboardInterrupt\u001b[0m                         Traceback (most recent call last)",
            "\u001b[0;32m<ipython-input-1-ff6097573cc4>\u001b[0m in \u001b[0;36m<cell line: 49>\u001b[0;34m()\u001b[0m\n\u001b[1;32m     47\u001b[0m \u001b[0;34m\u001b[0m\u001b[0m\n\u001b[1;32m     48\u001b[0m \u001b[0;31m# Main Program\u001b[0m\u001b[0;34m\u001b[0m\u001b[0;34m\u001b[0m\u001b[0m\n\u001b[0;32m---> 49\u001b[0;31m \u001b[0mnum_subjects\u001b[0m \u001b[0;34m=\u001b[0m \u001b[0mget_num_subjects\u001b[0m\u001b[0;34m(\u001b[0m\u001b[0;34m)\u001b[0m\u001b[0;34m\u001b[0m\u001b[0;34m\u001b[0m\u001b[0m\n\u001b[0m\u001b[1;32m     50\u001b[0m \u001b[0msubject_info\u001b[0m \u001b[0;34m=\u001b[0m \u001b[0mget_subject_info\u001b[0m\u001b[0;34m(\u001b[0m\u001b[0;34m)\u001b[0m\u001b[0;34m\u001b[0m\u001b[0;34m\u001b[0m\u001b[0m\n\u001b[1;32m     51\u001b[0m \u001b[0mtime_left\u001b[0m \u001b[0;34m=\u001b[0m \u001b[0mget_time_left\u001b[0m\u001b[0;34m(\u001b[0m\u001b[0;34m)\u001b[0m\u001b[0;34m\u001b[0m\u001b[0;34m\u001b[0m\u001b[0m\n",
            "\u001b[0;32m<ipython-input-1-ff6097573cc4>\u001b[0m in \u001b[0;36mget_num_subjects\u001b[0;34m()\u001b[0m\n\u001b[1;32m     22\u001b[0m \u001b[0;32mdef\u001b[0m \u001b[0mget_num_subjects\u001b[0m\u001b[0;34m(\u001b[0m\u001b[0;34m)\u001b[0m\u001b[0;34m:\u001b[0m\u001b[0;34m\u001b[0m\u001b[0;34m\u001b[0m\u001b[0m\n\u001b[1;32m     23\u001b[0m   \u001b[0;34m\"\"\"Prompts user and returns the number of subjects\"\"\"\u001b[0m\u001b[0;34m\u001b[0m\u001b[0;34m\u001b[0m\u001b[0m\n\u001b[0;32m---> 24\u001b[0;31m   \u001b[0mnum_subjects\u001b[0m \u001b[0;34m=\u001b[0m \u001b[0mint\u001b[0m\u001b[0;34m(\u001b[0m\u001b[0minput\u001b[0m\u001b[0;34m(\u001b[0m\u001b[0;34m\"Enter the number of subjects you'll be studying: \"\u001b[0m\u001b[0;34m)\u001b[0m\u001b[0;34m)\u001b[0m\u001b[0;34m\u001b[0m\u001b[0;34m\u001b[0m\u001b[0m\n\u001b[0m\u001b[1;32m     25\u001b[0m   \u001b[0;32mreturn\u001b[0m \u001b[0mnum_subjects\u001b[0m\u001b[0;34m\u001b[0m\u001b[0;34m\u001b[0m\u001b[0m\n\u001b[1;32m     26\u001b[0m \u001b[0;34m\u001b[0m\u001b[0m\n",
            "\u001b[0;32m/usr/local/lib/python3.10/dist-packages/ipykernel/kernelbase.py\u001b[0m in \u001b[0;36mraw_input\u001b[0;34m(self, prompt)\u001b[0m\n\u001b[1;32m    849\u001b[0m                 \u001b[0;34m\"raw_input was called, but this frontend does not support input requests.\"\u001b[0m\u001b[0;34m\u001b[0m\u001b[0;34m\u001b[0m\u001b[0m\n\u001b[1;32m    850\u001b[0m             )\n\u001b[0;32m--> 851\u001b[0;31m         return self._input_request(str(prompt),\n\u001b[0m\u001b[1;32m    852\u001b[0m             \u001b[0mself\u001b[0m\u001b[0;34m.\u001b[0m\u001b[0m_parent_ident\u001b[0m\u001b[0;34m,\u001b[0m\u001b[0;34m\u001b[0m\u001b[0;34m\u001b[0m\u001b[0m\n\u001b[1;32m    853\u001b[0m             \u001b[0mself\u001b[0m\u001b[0;34m.\u001b[0m\u001b[0m_parent_header\u001b[0m\u001b[0;34m,\u001b[0m\u001b[0;34m\u001b[0m\u001b[0;34m\u001b[0m\u001b[0m\n",
            "\u001b[0;32m/usr/local/lib/python3.10/dist-packages/ipykernel/kernelbase.py\u001b[0m in \u001b[0;36m_input_request\u001b[0;34m(self, prompt, ident, parent, password)\u001b[0m\n\u001b[1;32m    893\u001b[0m             \u001b[0;32mexcept\u001b[0m \u001b[0mKeyboardInterrupt\u001b[0m\u001b[0;34m:\u001b[0m\u001b[0;34m\u001b[0m\u001b[0;34m\u001b[0m\u001b[0m\n\u001b[1;32m    894\u001b[0m                 \u001b[0;31m# re-raise KeyboardInterrupt, to truncate traceback\u001b[0m\u001b[0;34m\u001b[0m\u001b[0;34m\u001b[0m\u001b[0m\n\u001b[0;32m--> 895\u001b[0;31m                 \u001b[0;32mraise\u001b[0m \u001b[0mKeyboardInterrupt\u001b[0m\u001b[0;34m(\u001b[0m\u001b[0;34m\"Interrupted by user\"\u001b[0m\u001b[0;34m)\u001b[0m \u001b[0;32mfrom\u001b[0m \u001b[0;32mNone\u001b[0m\u001b[0;34m\u001b[0m\u001b[0;34m\u001b[0m\u001b[0m\n\u001b[0m\u001b[1;32m    896\u001b[0m             \u001b[0;32mexcept\u001b[0m \u001b[0mException\u001b[0m \u001b[0;32mas\u001b[0m \u001b[0me\u001b[0m\u001b[0;34m:\u001b[0m\u001b[0;34m\u001b[0m\u001b[0;34m\u001b[0m\u001b[0m\n\u001b[1;32m    897\u001b[0m                 \u001b[0mself\u001b[0m\u001b[0;34m.\u001b[0m\u001b[0mlog\u001b[0m\u001b[0;34m.\u001b[0m\u001b[0mwarning\u001b[0m\u001b[0;34m(\u001b[0m\u001b[0;34m\"Invalid Message:\"\u001b[0m\u001b[0;34m,\u001b[0m \u001b[0mexc_info\u001b[0m\u001b[0;34m=\u001b[0m\u001b[0;32mTrue\u001b[0m\u001b[0;34m)\u001b[0m\u001b[0;34m\u001b[0m\u001b[0;34m\u001b[0m\u001b[0m\n",
            "\u001b[0;31mKeyboardInterrupt\u001b[0m: Interrupted by user"
          ]
        }
      ]
    }
  ]
}