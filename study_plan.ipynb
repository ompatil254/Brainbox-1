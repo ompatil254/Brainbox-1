{
  "nbformat": 4,
  "nbformat_minor": 0,
  "metadata": {
    "colab": {
      "provenance": [],
      "include_colab_link": true
    },
    "kernelspec": {
      "name": "python3",
      "display_name": "Python 3"
    },
    "language_info": {
      "name": "python"
    }
  },
  "cells": [
    {
      "cell_type": "markdown",
      "metadata": {
        "id": "view-in-github",
        "colab_type": "text"
      },
      "source": [
        "<a href=\"https://colab.research.google.com/github/ompatil254/Brainbox-1/blob/main/study_plan.ipynb\" target=\"_parent\"><img src=\"https://colab.research.google.com/assets/colab-badge.svg\" alt=\"Open In Colab\"/></a>"
      ]
    },
    {
      "cell_type": "code",
      "execution_count": null,
      "metadata": {
        "id": "fABG2t43LSOC"
      },
      "outputs": [],
      "source": [
        "!pip install -U -q google-generativeai\n",
        "import pathlib\n",
        "import textwrap\n",
        "import time\n",
        "\n",
        "import google.generativeai as genai\n",
        "\n",
        "\n",
        "from IPython import display\n",
        "from IPython.display import Markdown\n",
        "\n",
        "def to_markdown(text):\n",
        "  text = text.replace('•', '  *')\n",
        "  return Markdown(textwrap.indent(text, '> ', predicate=lambda _: True))\n",
        "\n",
        "\n",
        "  import requests\n",
        "\n"
      ]
    },
    {
      "cell_type": "code",
      "source": [
        "\n",
        "from google.colab import userdata\n",
        "\n",
        "GOOGLE_API_KEY=userdata.get('GOOGLE_API_KEY')\n",
        "\n",
        "genai.configure(api_key=GOOGLE_API_KEY)\n"
      ],
      "metadata": {
        "id": "I-eMaiF9ofHI"
      },
      "execution_count": null,
      "outputs": []
    },
    {
      "cell_type": "code",
      "source": [
        "model = genai.GenerativeModel('gemini-pro')"
      ],
      "metadata": {
        "id": "pEEJBbC_uCeg"
      },
      "execution_count": null,
      "outputs": []
    },
    {
      "cell_type": "code",
      "source": [
        "import re\n",
        "\n",
        "def remove_markdown(text):\n",
        "  \"\"\"Removes markdown formatting from a string (improved version)\"\"\"\n",
        "  patterns = {\n",
        "      r\"\\*\\*([^*]+)\\*\\*\": r\"\\1\",          # Bold (**)\n",
        "      r\"_([^_]+)_\": r\"\\1\",                # Italic (_)\n",
        "      r\"\\[([^\\]]+)]\\(([^)]+)\\)\": r\"\\1 (\\2)\",  # Link ([text](url))\n",
        "      r\"#+ (.*)\": r\"\\1\",                   # Headings (#)\n",
        "      r\"\\s*-{3,}\\s*\": r\"\\n\",                # Horizontal rule\n",
        "      r\"`(.*?)`\": r\"\\1\",                   # Code block\n",
        "      r\"\\* (.*)\": r\"\\1\",                   # List item (*) (might need adjustment)\n",
        "      r\"\\>(.*)\": r\"\\1\",                   # Quote (>) (might need adjustment)\n",
        "  }\n",
        "\n",
        "  # Replace markdown elements with plain text using a loop\n",
        "  for pattern, replacement in patterns.items():\n",
        "    text = re.sub(pattern, replacement, text)\n",
        "  return text\n",
        "\n",
        "# Input Functions\n",
        "def get_num_subjects():\n",
        "  \"\"\"Prompts user and returns the number of subjects\"\"\"\n",
        "  num_subjects = int(input(\"Enter the number of subjects you'll be studying: \"))\n",
        "  return num_subjects\n",
        "\n",
        "def get_subject_info():\n",
        "  \"\"\"Prompts user for subject name and difficulty, returns a dictionary\"\"\"\n",
        "  subject_info = {}\n",
        "  for i in range(num_subjects):\n",
        "    subject_name = input(f\"Enter subject {i+1} name: \")\n",
        "    difficulty = input(f\"Enter the difficulty level of {subject_name} (low, medium, high): \")\n",
        "    difficulty = difficulty.lower()\n",
        "    subject_info[subject_name] = difficulty\n",
        "  return subject_info\n",
        "\n",
        "def get_time_left():\n",
        "  \"\"\"Prompts user and returns time left for exam in days\"\"\"\n",
        "  days_left = int(input(\"Enter the number of days left for your exam: \"))\n",
        "  return days_left\n",
        "\n",
        "def get_learning_style():\n",
        "  \"\"\"Prompts user and returns learning style\"\"\"\n",
        "  learning_style = input(\"Enter your preferred learning style (visual, auditory, kinesthetic): \")\n",
        "  learning_style = learning_style.lower()\n",
        "  return learning_style\n",
        "\n",
        "# Main Program\n",
        "num_subjects = get_num_subjects()\n",
        "subject_info = get_subject_info()\n",
        "time_left = get_time_left()\n",
        "learning_style = get_learning_style()\n",
        "\n",
        "# Build a comprehensive prompt with all user inputs\n",
        "all_prompts = []\n",
        "for subject_name, difficulty in subject_info.items():\n",
        "  prompt = f\"Generate a personalized study plan to efficiently learn {subject_name} (difficulty: {difficulty}) tailored to a {learning_style} learner in {time_left} days.  Focus on prioritizing key topics and optimizing study time. do not use pointers. \"\n",
        "  all_prompts.append(prompt)\n",
        "\n",
        "# Assuming 'model' can handle multiple prompts (modify if needed)\n",
        "responses = model.generate_content(all_prompts)  # Might need adjustment based on your model\n",
        "\n",
        "# Process and display individual study plans (modify based on model output format)\n",
        "for i, response in enumerate(responses):\n",
        "  subject_name = list(subject_info.keys())[i]\n",
        "  print(f\"\\n Personalized Study Plan for {subject_name} \")\n",
        "  # Remove markdown before printing (assuming text format by default)\n",
        "  markdown_response = remove_markdown(response.text)\n",
        "  print(markdown_response)\n",
        "\n",
        "\n"
      ],
      "metadata": {
        "colab": {
          "base_uri": "https://localhost:8080/",
          "height": 954
        },
        "id": "DqXV8_uXv5AM",
        "outputId": "58b21e1e-cbcd-4355-8558-1a0402ade6a5"
      },
      "execution_count": null,
      "outputs": [
        {
          "output_type": "stream",
          "name": "stdout",
          "text": [
            "Enter the number of subjects you'll be studying: 1\n",
            "Enter subject 1 name: probabilit\n",
            "Enter the difficulty level of probabilit (low, medium, high): medium\n",
            "Enter the number of days left for your exam: 2\n",
            "Enter your preferred learning style (visual, auditory, kinesthetic): visual\n",
            "\n",
            " Personalized Study Plan for probabilit \n",
            "Study Plan for Visual Learners\n",
            "\n",
            "Day 1:\n",
            "\n",
            "Morning (2 hours):\n",
            "\n",
            "Topic: Basic Probability Concepts\n",
            "    Use flashcards with diagrams to visualize probability as a fraction of possible outcomes.\n",
            "    Create a mind map to connect key terms like event, sample space, and outcome.\n",
            "\n",
            "Afternoon (2 hours):\n",
            "\n",
            "Topic: Conditional Probability and Bayes' Theorem\n",
            "    Draw Venn diagrams to represent events and their intersections.\n",
            "    Utilize a step-by-step infographic to understand Bayes' Theorem.\n",
            "\n",
            "Evening (1 hour):\n",
            "\n",
            "Practice: Solve probability problems using visual aids like tree diagrams and tables.\n",
            "Review: Go over the day's concepts using a visual study guide.\n",
            "\n",
            "Day 2:\n",
            "\n",
            "Morning (2 hours):\n",
            "\n",
            "Topic: Random Variables and Distributions\n",
            "    Create frequency tables and bar charts to visualize data distributions.\n",
            "    Use graphs to illustrate probability density functions.\n",
            "\n",
            "Afternoon (2 hours):\n",
            "\n",
            "Topic: Sampling and Estimation\n",
            "    Draw simulations using dice or spinners to understand sampling distributions.\n",
            "    Utilize interactive online tools to demonstrate concepts like confidence intervals.\n",
            "\n",
            "Evening (1 hour):\n",
            "\n",
            "Practice: Apply probability concepts to real-world scenarios using visual representations.\n",
            "Final Review: Summarize key topics and revisit important diagrams to reinforce understanding.\n",
            "\n",
            "Tips for Visual Learners:\n",
            "\n",
            "Use a variety of visual aids (e.g., diagrams, charts, graphs) to reinforce concepts.\n",
            "Draw and label diagrams to represent probability scenarios.\n",
            "Color-code different outcomes and events to make them easier to distinguish.\n",
            "Create visual study guides and summaries for quick review.\n",
            "Attend any classes or workshops that offer visual demonstrations.\n"
          ]
        }
      ]
    }
  ]
}